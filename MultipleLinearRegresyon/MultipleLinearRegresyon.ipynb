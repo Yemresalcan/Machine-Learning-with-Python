{
  "nbformat": 4,
  "nbformat_minor": 0,
  "metadata": {
    "colab": {
      "provenance": [],
      "authorship_tag": "ABX9TyOHpnRN1TYh+MRP+tn9rhHh",
      "include_colab_link": true
    },
    "kernelspec": {
      "name": "python3",
      "display_name": "Python 3"
    },
    "language_info": {
      "name": "python"
    }
  },
  "cells": [
    {
      "cell_type": "markdown",
      "metadata": {
        "id": "view-in-github",
        "colab_type": "text"
      },
      "source": [
        "<a href=\"https://colab.research.google.com/github/Yemresalcan/Machine-Learning-with-Python/blob/MultipleLinearRegresyon/MultipleLinearRegresyon.ipynb\" target=\"_parent\"><img src=\"https://colab.research.google.com/assets/colab-badge.svg\" alt=\"Open In Colab\"/></a>"
      ]
    },
    {
      "cell_type": "markdown",
      "source": [
        "**Multiple linear regression**\n",
        "\n",
        "\n",
        "![1_iz5-6i0TG23UxeExvT3qeg.webp](data:image/webp;base64,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)"
      ],
      "metadata": {
        "id": "yt4QFWl6oEjm"
      }
    },
    {
      "cell_type": "code",
      "source": [
        "import pandas as pd\n",
        "import numpy as np\n",
        "from sklearn.linear_model import LinearRegression"
      ],
      "metadata": {
        "id": "F7EV4dDFoO0w"
      },
      "execution_count": 23,
      "outputs": []
    },
    {
      "cell_type": "code",
      "source": [
        "df=pd.read_csv(\"/content/sample_data/multiple_linear_regression_dataset.csv\",sep=\";\")"
      ],
      "metadata": {
        "id": "siFvEZLApuBF"
      },
      "execution_count": 27,
      "outputs": []
    },
    {
      "cell_type": "code",
      "source": [
        "df.head()"
      ],
      "metadata": {
        "colab": {
          "base_uri": "https://localhost:8080/",
          "height": 206
        },
        "id": "9qR-ZFusp1sL",
        "outputId": "e0c03dd5-9717-449c-f99e-16b41b485d76"
      },
      "execution_count": 25,
      "outputs": [
        {
          "output_type": "execute_result",
          "data": {
            "text/plain": [
              "  deneyim;maas;yas\n",
              "0      0.5;2500;22\n",
              "1        0;2250;21\n",
              "2        1;2750;23\n",
              "3        5;8000;25\n",
              "4        8;9000;28"
            ],
            "text/html": [
              "\n",
              "  <div id=\"df-fb17d160-6811-4ca6-b8bb-9b26dbdae0f5\" class=\"colab-df-container\">\n",
              "    <div>\n",
              "<style scoped>\n",
              "    .dataframe tbody tr th:only-of-type {\n",
              "        vertical-align: middle;\n",
              "    }\n",
              "\n",
              "    .dataframe tbody tr th {\n",
              "        vertical-align: top;\n",
              "    }\n",
              "\n",
              "    .dataframe thead th {\n",
              "        text-align: right;\n",
              "    }\n",
              "</style>\n",
              "<table border=\"1\" class=\"dataframe\">\n",
              "  <thead>\n",
              "    <tr style=\"text-align: right;\">\n",
              "      <th></th>\n",
              "      <th>deneyim;maas;yas</th>\n",
              "    </tr>\n",
              "  </thead>\n",
              "  <tbody>\n",
              "    <tr>\n",
              "      <th>0</th>\n",
              "      <td>0.5;2500;22</td>\n",
              "    </tr>\n",
              "    <tr>\n",
              "      <th>1</th>\n",
              "      <td>0;2250;21</td>\n",
              "    </tr>\n",
              "    <tr>\n",
              "      <th>2</th>\n",
              "      <td>1;2750;23</td>\n",
              "    </tr>\n",
              "    <tr>\n",
              "      <th>3</th>\n",
              "      <td>5;8000;25</td>\n",
              "    </tr>\n",
              "    <tr>\n",
              "      <th>4</th>\n",
              "      <td>8;9000;28</td>\n",
              "    </tr>\n",
              "  </tbody>\n",
              "</table>\n",
              "</div>\n",
              "    <div class=\"colab-df-buttons\">\n",
              "\n",
              "  <div class=\"colab-df-container\">\n",
              "    <button class=\"colab-df-convert\" onclick=\"convertToInteractive('df-fb17d160-6811-4ca6-b8bb-9b26dbdae0f5')\"\n",
              "            title=\"Convert this dataframe to an interactive table.\"\n",
              "            style=\"display:none;\">\n",
              "\n",
              "  <svg xmlns=\"http://www.w3.org/2000/svg\" height=\"24px\" viewBox=\"0 -960 960 960\">\n",
              "    <path d=\"M120-120v-720h720v720H120Zm60-500h600v-160H180v160Zm220 220h160v-160H400v160Zm0 220h160v-160H400v160ZM180-400h160v-160H180v160Zm440 0h160v-160H620v160ZM180-180h160v-160H180v160Zm440 0h160v-160H620v160Z\"/>\n",
              "  </svg>\n",
              "    </button>\n",
              "\n",
              "  <style>\n",
              "    .colab-df-container {\n",
              "      display:flex;\n",
              "      gap: 12px;\n",
              "    }\n",
              "\n",
              "    .colab-df-convert {\n",
              "      background-color: #E8F0FE;\n",
              "      border: none;\n",
              "      border-radius: 50%;\n",
              "      cursor: pointer;\n",
              "      display: none;\n",
              "      fill: #1967D2;\n",
              "      height: 32px;\n",
              "      padding: 0 0 0 0;\n",
              "      width: 32px;\n",
              "    }\n",
              "\n",
              "    .colab-df-convert:hover {\n",
              "      background-color: #E2EBFA;\n",
              "      box-shadow: 0px 1px 2px rgba(60, 64, 67, 0.3), 0px 1px 3px 1px rgba(60, 64, 67, 0.15);\n",
              "      fill: #174EA6;\n",
              "    }\n",
              "\n",
              "    .colab-df-buttons div {\n",
              "      margin-bottom: 4px;\n",
              "    }\n",
              "\n",
              "    [theme=dark] .colab-df-convert {\n",
              "      background-color: #3B4455;\n",
              "      fill: #D2E3FC;\n",
              "    }\n",
              "\n",
              "    [theme=dark] .colab-df-convert:hover {\n",
              "      background-color: #434B5C;\n",
              "      box-shadow: 0px 1px 3px 1px rgba(0, 0, 0, 0.15);\n",
              "      filter: drop-shadow(0px 1px 2px rgba(0, 0, 0, 0.3));\n",
              "      fill: #FFFFFF;\n",
              "    }\n",
              "  </style>\n",
              "\n",
              "    <script>\n",
              "      const buttonEl =\n",
              "        document.querySelector('#df-fb17d160-6811-4ca6-b8bb-9b26dbdae0f5 button.colab-df-convert');\n",
              "      buttonEl.style.display =\n",
              "        google.colab.kernel.accessAllowed ? 'block' : 'none';\n",
              "\n",
              "      async function convertToInteractive(key) {\n",
              "        const element = document.querySelector('#df-fb17d160-6811-4ca6-b8bb-9b26dbdae0f5');\n",
              "        const dataTable =\n",
              "          await google.colab.kernel.invokeFunction('convertToInteractive',\n",
              "                                                    [key], {});\n",
              "        if (!dataTable) return;\n",
              "\n",
              "        const docLinkHtml = 'Like what you see? Visit the ' +\n",
              "          '<a target=\"_blank\" href=https://colab.research.google.com/notebooks/data_table.ipynb>data table notebook</a>'\n",
              "          + ' to learn more about interactive tables.';\n",
              "        element.innerHTML = '';\n",
              "        dataTable['output_type'] = 'display_data';\n",
              "        await google.colab.output.renderOutput(dataTable, element);\n",
              "        const docLink = document.createElement('div');\n",
              "        docLink.innerHTML = docLinkHtml;\n",
              "        element.appendChild(docLink);\n",
              "      }\n",
              "    </script>\n",
              "  </div>\n",
              "\n",
              "\n",
              "<div id=\"df-e5815a7b-3a6e-4dce-af1e-2611556732e0\">\n",
              "  <button class=\"colab-df-quickchart\" onclick=\"quickchart('df-e5815a7b-3a6e-4dce-af1e-2611556732e0')\"\n",
              "            title=\"Suggest charts\"\n",
              "            style=\"display:none;\">\n",
              "\n",
              "<svg xmlns=\"http://www.w3.org/2000/svg\" height=\"24px\"viewBox=\"0 0 24 24\"\n",
              "     width=\"24px\">\n",
              "    <g>\n",
              "        <path d=\"M19 3H5c-1.1 0-2 .9-2 2v14c0 1.1.9 2 2 2h14c1.1 0 2-.9 2-2V5c0-1.1-.9-2-2-2zM9 17H7v-7h2v7zm4 0h-2V7h2v10zm4 0h-2v-4h2v4z\"/>\n",
              "    </g>\n",
              "</svg>\n",
              "  </button>\n",
              "\n",
              "<style>\n",
              "  .colab-df-quickchart {\n",
              "      --bg-color: #E8F0FE;\n",
              "      --fill-color: #1967D2;\n",
              "      --hover-bg-color: #E2EBFA;\n",
              "      --hover-fill-color: #174EA6;\n",
              "      --disabled-fill-color: #AAA;\n",
              "      --disabled-bg-color: #DDD;\n",
              "  }\n",
              "\n",
              "  [theme=dark] .colab-df-quickchart {\n",
              "      --bg-color: #3B4455;\n",
              "      --fill-color: #D2E3FC;\n",
              "      --hover-bg-color: #434B5C;\n",
              "      --hover-fill-color: #FFFFFF;\n",
              "      --disabled-bg-color: #3B4455;\n",
              "      --disabled-fill-color: #666;\n",
              "  }\n",
              "\n",
              "  .colab-df-quickchart {\n",
              "    background-color: var(--bg-color);\n",
              "    border: none;\n",
              "    border-radius: 50%;\n",
              "    cursor: pointer;\n",
              "    display: none;\n",
              "    fill: var(--fill-color);\n",
              "    height: 32px;\n",
              "    padding: 0;\n",
              "    width: 32px;\n",
              "  }\n",
              "\n",
              "  .colab-df-quickchart:hover {\n",
              "    background-color: var(--hover-bg-color);\n",
              "    box-shadow: 0 1px 2px rgba(60, 64, 67, 0.3), 0 1px 3px 1px rgba(60, 64, 67, 0.15);\n",
              "    fill: var(--button-hover-fill-color);\n",
              "  }\n",
              "\n",
              "  .colab-df-quickchart-complete:disabled,\n",
              "  .colab-df-quickchart-complete:disabled:hover {\n",
              "    background-color: var(--disabled-bg-color);\n",
              "    fill: var(--disabled-fill-color);\n",
              "    box-shadow: none;\n",
              "  }\n",
              "\n",
              "  .colab-df-spinner {\n",
              "    border: 2px solid var(--fill-color);\n",
              "    border-color: transparent;\n",
              "    border-bottom-color: var(--fill-color);\n",
              "    animation:\n",
              "      spin 1s steps(1) infinite;\n",
              "  }\n",
              "\n",
              "  @keyframes spin {\n",
              "    0% {\n",
              "      border-color: transparent;\n",
              "      border-bottom-color: var(--fill-color);\n",
              "      border-left-color: var(--fill-color);\n",
              "    }\n",
              "    20% {\n",
              "      border-color: transparent;\n",
              "      border-left-color: var(--fill-color);\n",
              "      border-top-color: var(--fill-color);\n",
              "    }\n",
              "    30% {\n",
              "      border-color: transparent;\n",
              "      border-left-color: var(--fill-color);\n",
              "      border-top-color: var(--fill-color);\n",
              "      border-right-color: var(--fill-color);\n",
              "    }\n",
              "    40% {\n",
              "      border-color: transparent;\n",
              "      border-right-color: var(--fill-color);\n",
              "      border-top-color: var(--fill-color);\n",
              "    }\n",
              "    60% {\n",
              "      border-color: transparent;\n",
              "      border-right-color: var(--fill-color);\n",
              "    }\n",
              "    80% {\n",
              "      border-color: transparent;\n",
              "      border-right-color: var(--fill-color);\n",
              "      border-bottom-color: var(--fill-color);\n",
              "    }\n",
              "    90% {\n",
              "      border-color: transparent;\n",
              "      border-bottom-color: var(--fill-color);\n",
              "    }\n",
              "  }\n",
              "</style>\n",
              "\n",
              "  <script>\n",
              "    async function quickchart(key) {\n",
              "      const quickchartButtonEl =\n",
              "        document.querySelector('#' + key + ' button');\n",
              "      quickchartButtonEl.disabled = true;  // To prevent multiple clicks.\n",
              "      quickchartButtonEl.classList.add('colab-df-spinner');\n",
              "      try {\n",
              "        const charts = await google.colab.kernel.invokeFunction(\n",
              "            'suggestCharts', [key], {});\n",
              "      } catch (error) {\n",
              "        console.error('Error during call to suggestCharts:', error);\n",
              "      }\n",
              "      quickchartButtonEl.classList.remove('colab-df-spinner');\n",
              "      quickchartButtonEl.classList.add('colab-df-quickchart-complete');\n",
              "    }\n",
              "    (() => {\n",
              "      let quickchartButtonEl =\n",
              "        document.querySelector('#df-e5815a7b-3a6e-4dce-af1e-2611556732e0 button');\n",
              "      quickchartButtonEl.style.display =\n",
              "        google.colab.kernel.accessAllowed ? 'block' : 'none';\n",
              "    })();\n",
              "  </script>\n",
              "</div>\n",
              "\n",
              "    </div>\n",
              "  </div>\n"
            ]
          },
          "metadata": {},
          "execution_count": 25
        }
      ]
    },
    {
      "cell_type": "markdown",
      "source": [
        "ilk olarak maas = b0 + b1 * deneyimi alacağız"
      ],
      "metadata": {
        "id": "wEFG96DbqRee"
      }
    },
    {
      "cell_type": "code",
      "source": [
        "y=df.maas.values.reshape(-1,1)\n",
        "x=df.iloc[:,[0,2]].values"
      ],
      "metadata": {
        "id": "ohLrtF7Ot1mG"
      },
      "execution_count": 30,
      "outputs": []
    },
    {
      "cell_type": "code",
      "source": [
        "mul_reg=LinearRegression()\n",
        "mul_reg.fit(x,y)"
      ],
      "metadata": {
        "colab": {
          "base_uri": "https://localhost:8080/",
          "height": 74
        },
        "id": "_26zjyx8wRBK",
        "outputId": "50174df0-f7ae-4703-9500-b331e8606bb8"
      },
      "execution_count": 32,
      "outputs": [
        {
          "output_type": "execute_result",
          "data": {
            "text/plain": [
              "LinearRegression()"
            ],
            "text/html": [
              "<style>#sk-container-id-1 {color: black;background-color: white;}#sk-container-id-1 pre{padding: 0;}#sk-container-id-1 div.sk-toggleable {background-color: white;}#sk-container-id-1 label.sk-toggleable__label {cursor: pointer;display: block;width: 100%;margin-bottom: 0;padding: 0.3em;box-sizing: border-box;text-align: center;}#sk-container-id-1 label.sk-toggleable__label-arrow:before {content: \"▸\";float: left;margin-right: 0.25em;color: #696969;}#sk-container-id-1 label.sk-toggleable__label-arrow:hover:before {color: black;}#sk-container-id-1 div.sk-estimator:hover label.sk-toggleable__label-arrow:before {color: black;}#sk-container-id-1 div.sk-toggleable__content {max-height: 0;max-width: 0;overflow: hidden;text-align: left;background-color: #f0f8ff;}#sk-container-id-1 div.sk-toggleable__content pre {margin: 0.2em;color: black;border-radius: 0.25em;background-color: #f0f8ff;}#sk-container-id-1 input.sk-toggleable__control:checked~div.sk-toggleable__content {max-height: 200px;max-width: 100%;overflow: auto;}#sk-container-id-1 input.sk-toggleable__control:checked~label.sk-toggleable__label-arrow:before {content: \"▾\";}#sk-container-id-1 div.sk-estimator input.sk-toggleable__control:checked~label.sk-toggleable__label {background-color: #d4ebff;}#sk-container-id-1 div.sk-label input.sk-toggleable__control:checked~label.sk-toggleable__label {background-color: #d4ebff;}#sk-container-id-1 input.sk-hidden--visually {border: 0;clip: rect(1px 1px 1px 1px);clip: rect(1px, 1px, 1px, 1px);height: 1px;margin: -1px;overflow: hidden;padding: 0;position: absolute;width: 1px;}#sk-container-id-1 div.sk-estimator {font-family: monospace;background-color: #f0f8ff;border: 1px dotted black;border-radius: 0.25em;box-sizing: border-box;margin-bottom: 0.5em;}#sk-container-id-1 div.sk-estimator:hover {background-color: #d4ebff;}#sk-container-id-1 div.sk-parallel-item::after {content: \"\";width: 100%;border-bottom: 1px solid gray;flex-grow: 1;}#sk-container-id-1 div.sk-label:hover label.sk-toggleable__label {background-color: #d4ebff;}#sk-container-id-1 div.sk-serial::before {content: \"\";position: absolute;border-left: 1px solid gray;box-sizing: border-box;top: 0;bottom: 0;left: 50%;z-index: 0;}#sk-container-id-1 div.sk-serial {display: flex;flex-direction: column;align-items: center;background-color: white;padding-right: 0.2em;padding-left: 0.2em;position: relative;}#sk-container-id-1 div.sk-item {position: relative;z-index: 1;}#sk-container-id-1 div.sk-parallel {display: flex;align-items: stretch;justify-content: center;background-color: white;position: relative;}#sk-container-id-1 div.sk-item::before, #sk-container-id-1 div.sk-parallel-item::before {content: \"\";position: absolute;border-left: 1px solid gray;box-sizing: border-box;top: 0;bottom: 0;left: 50%;z-index: -1;}#sk-container-id-1 div.sk-parallel-item {display: flex;flex-direction: column;z-index: 1;position: relative;background-color: white;}#sk-container-id-1 div.sk-parallel-item:first-child::after {align-self: flex-end;width: 50%;}#sk-container-id-1 div.sk-parallel-item:last-child::after {align-self: flex-start;width: 50%;}#sk-container-id-1 div.sk-parallel-item:only-child::after {width: 0;}#sk-container-id-1 div.sk-dashed-wrapped {border: 1px dashed gray;margin: 0 0.4em 0.5em 0.4em;box-sizing: border-box;padding-bottom: 0.4em;background-color: white;}#sk-container-id-1 div.sk-label label {font-family: monospace;font-weight: bold;display: inline-block;line-height: 1.2em;}#sk-container-id-1 div.sk-label-container {text-align: center;}#sk-container-id-1 div.sk-container {/* jupyter's `normalize.less` sets `[hidden] { display: none; }` but bootstrap.min.css set `[hidden] { display: none !important; }` so we also need the `!important` here to be able to override the default hidden behavior on the sphinx rendered scikit-learn.org. See: https://github.com/scikit-learn/scikit-learn/issues/21755 */display: inline-block !important;position: relative;}#sk-container-id-1 div.sk-text-repr-fallback {display: none;}</style><div id=\"sk-container-id-1\" class=\"sk-top-container\"><div class=\"sk-text-repr-fallback\"><pre>LinearRegression()</pre><b>In a Jupyter environment, please rerun this cell to show the HTML representation or trust the notebook. <br />On GitHub, the HTML representation is unable to render, please try loading this page with nbviewer.org.</b></div><div class=\"sk-container\" hidden><div class=\"sk-item\"><div class=\"sk-estimator sk-toggleable\"><input class=\"sk-toggleable__control sk-hidden--visually\" id=\"sk-estimator-id-1\" type=\"checkbox\" checked><label for=\"sk-estimator-id-1\" class=\"sk-toggleable__label sk-toggleable__label-arrow\">LinearRegression</label><div class=\"sk-toggleable__content\"><pre>LinearRegression()</pre></div></div></div></div></div>"
            ]
          },
          "metadata": {},
          "execution_count": 32
        }
      ]
    },
    {
      "cell_type": "code",
      "source": [
        "print(\"b0 =\",mul_reg.intercept_)"
      ],
      "metadata": {
        "colab": {
          "base_uri": "https://localhost:8080/"
        },
        "id": "r5DfKhT-wZmr",
        "outputId": "8d1ef260-2b90-4c9a-aa92-7536c4d65b9f"
      },
      "execution_count": 34,
      "outputs": [
        {
          "output_type": "stream",
          "name": "stdout",
          "text": [
            "b0 = [10376.62747228]\n"
          ]
        }
      ]
    },
    {
      "cell_type": "code",
      "source": [
        "print(\"b1,b2 =\",mul_reg.coef_)"
      ],
      "metadata": {
        "colab": {
          "base_uri": "https://localhost:8080/"
        },
        "id": "uiwhsZTdwooS",
        "outputId": "0036f78c-def2-416d-dbcc-8c22b74fa47c"
      },
      "execution_count": 35,
      "outputs": [
        {
          "output_type": "stream",
          "name": "stdout",
          "text": [
            "b1,b2 = [[1525.50072054 -416.72218625]]\n"
          ]
        }
      ]
    },
    {
      "cell_type": "code",
      "source": [
        "#Deneyim ve yaşa göre maas tahmini [deneyim, yas]\n",
        "mul_reg.predict(np.array([[10,35],[5,35]]))"
      ],
      "metadata": {
        "colab": {
          "base_uri": "https://localhost:8080/"
        },
        "id": "48POwB3Dw0e1",
        "outputId": "fe951e6b-fed0-4ede-ea42-d65c17df5c55"
      },
      "execution_count": 40,
      "outputs": [
        {
          "output_type": "execute_result",
          "data": {
            "text/plain": [
              "array([[11046.35815877],\n",
              "       [ 3418.85455609]])"
            ]
          },
          "metadata": {},
          "execution_count": 40
        }
      ]
    },
    {
      "cell_type": "markdown",
      "source": [
        "\n",
        "\n",
        "*   10 yılık 35 yaşındaki biri maası 11k olarak tahmin edilirken\n",
        "*   5 yılık 35 deneyimli biri maası 3.5k olarak tahmin edilir\n",
        "\n",
        "\n",
        "\n",
        "\n",
        "\n",
        "\n"
      ],
      "metadata": {
        "id": "ADzMD1ywxvTg"
      }
    },
    {
      "cell_type": "code",
      "source": [],
      "metadata": {
        "id": "0n6rIHU7x44A"
      },
      "execution_count": null,
      "outputs": []
    }
  ]
}